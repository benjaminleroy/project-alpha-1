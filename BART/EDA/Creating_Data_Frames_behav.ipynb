{
 "metadata": {
  "name": "",
  "signature": "sha256:646776831c6c8ad70fb716e38ce46ed02609ea1a97a6a23342f8d12dd95a5dd6"
 },
 "nbformat": 3,
 "nbformat_minor": 0,
 "worksheets": [
  {
   "cells": [
    {
     "cell_type": "markdown",
     "metadata": {},
     "source": [
      "## Loading Libraries"
     ]
    },
    {
     "cell_type": "code",
     "collapsed": false,
     "input": [
      "from __future__ import absolute_import, division, print_function\n",
      "import numpy as np\n",
      "import matplotlib.pyplot as plt\n",
      "import nibabel as nib\n",
      "import pandas as pd # to deal with behavior data\n",
      "import os # work with locations of files"
     ],
     "language": "python",
     "metadata": {},
     "outputs": [],
     "prompt_number": 1
    },
    {
     "cell_type": "code",
     "collapsed": false,
     "input": [
      "cd /Users/BenjaminLeRoy/Desktop/test/4d_fmri/"
     ],
     "language": "python",
     "metadata": {},
     "outputs": [
      {
       "output_type": "stream",
       "stream": "stdout",
       "text": [
        "/Users/BenjaminLeRoy/Desktop/test/4d_fmri\n"
       ]
      }
     ],
     "prompt_number": 2
    },
    {
     "cell_type": "code",
     "collapsed": false,
     "input": [
      "from stimuli import events2neural"
     ],
     "language": "python",
     "metadata": {},
     "outputs": [],
     "prompt_number": 3
    },
    {
     "cell_type": "code",
     "collapsed": false,
     "input": [
      "cd /Users/BenjaminLeRoy/Desktop/1.Fall2015/Stat\\ 159/project/python_code"
     ],
     "language": "python",
     "metadata": {},
     "outputs": [
      {
       "output_type": "stream",
       "stream": "stdout",
       "text": [
        "/Users/BenjaminLeRoy/Desktop/1.Fall2015/Stat 159/project/python_code\n"
       ]
      }
     ],
     "prompt_number": 4
    },
    {
     "cell_type": "code",
     "collapsed": false,
     "input": [
      "from Image_Visualizing import present_3d"
     ],
     "language": "python",
     "metadata": {},
     "outputs": [],
     "prompt_number": 5
    },
    {
     "cell_type": "markdown",
     "metadata": {},
     "source": [
      "## Data Analysis"
     ]
    },
    {
     "cell_type": "code",
     "collapsed": false,
     "input": [
      "project_location=os.path.join(os.path.expanduser(\"~\"),\n",
      "\t\"Desktop/1.Fall2015/Stat 159/project/\")\n",
      "data_location=os.path.join(project_location,\"data/ds009\")"
     ],
     "language": "python",
     "metadata": {},
     "outputs": [],
     "prompt_number": 7
    },
    {
     "cell_type": "code",
     "collapsed": false,
     "input": [
      "task_list=os.listdir(os.path.join(data_location,\"sub001\",\"behav\"))[1:]\n",
      "# different tasks and run list\n",
      "\n",
      "sub_locations=os.listdir(data_location)[1:]"
     ],
     "language": "python",
     "metadata": {},
     "outputs": [],
     "prompt_number": 8
    },
    {
     "cell_type": "markdown",
     "metadata": {},
     "source": [
      "### Creating list of Data Frames for the behav information"
     ]
    },
    {
     "cell_type": "code",
     "collapsed": false,
     "input": [
      "all_behav=list()\n",
      "for i, task_element in enumerate(task_list):\n",
      "    print(i)\n",
      "    full_table=pd.DataFrame()\n",
      "    for item in sub_locations: \n",
      "        location=os.path.join(data_location,item,\"behav\", \n",
      "        task_element,\"behavdata.txt\") \n",
      "        full_table=full_table.append(pd.read_table(location,sep=\" \"))\n",
      "    full_table.index=sub_locations\n",
      "    print(i)\n",
      "    all_behav.append(full_table) \n"
     ],
     "language": "python",
     "metadata": {},
     "outputs": [
      {
       "output_type": "stream",
       "stream": "stdout",
       "text": [
        "0\n",
        "0"
       ]
      },
      {
       "output_type": "stream",
       "stream": "stdout",
       "text": [
        "\n",
        "1\n",
        "1"
       ]
      },
      {
       "output_type": "stream",
       "stream": "stdout",
       "text": [
        "\n",
        "2\n",
        "2"
       ]
      },
      {
       "output_type": "stream",
       "stream": "stdout",
       "text": [
        "\n",
        "3\n",
        "3"
       ]
      },
      {
       "output_type": "stream",
       "stream": "stdout",
       "text": [
        "\n",
        "4\n",
        "4"
       ]
      },
      {
       "output_type": "stream",
       "stream": "stdout",
       "text": [
        "\n",
        "5\n",
        "5"
       ]
      },
      {
       "output_type": "stream",
       "stream": "stdout",
       "text": [
        "\n"
       ]
      }
     ],
     "prompt_number": 10
    },
    {
     "cell_type": "code",
     "collapsed": false,
     "input": [
      "###  shitty header visual:\n",
      "all_behav[0].head(5)"
     ],
     "language": "python",
     "metadata": {},
     "outputs": [
      {
       "html": [
        "<div style=\"max-height:1000px;max-width:1500px;overflow:auto;\">\n",
        "<table border=\"1\" class=\"dataframe\">\n",
        "  <thead>\n",
        "    <tr style=\"text-align: right;\">\n",
        "      <th></th>\n",
        "      <th>NumPumps</th>\n",
        "      <th>AmtWon</th>\n",
        "      <th>NumExpl</th>\n",
        "      <th>NumTRs</th>\n",
        "    </tr>\n",
        "  </thead>\n",
        "  <tbody>\n",
        "    <tr>\n",
        "      <th>sub001</th>\n",
        "      <td> 5.33</td>\n",
        "      <td> 46.00</td>\n",
        "      <td>  8</td>\n",
        "      <td> 239</td>\n",
        "    </tr>\n",
        "    <tr>\n",
        "      <th>sub002</th>\n",
        "      <td> 6.17</td>\n",
        "      <td> 39.75</td>\n",
        "      <td> 15</td>\n",
        "      <td> 281</td>\n",
        "    </tr>\n",
        "    <tr>\n",
        "      <th>sub003</th>\n",
        "      <td> 5.36</td>\n",
        "      <td> 42.00</td>\n",
        "      <td> 10</td>\n",
        "      <td> 232</td>\n",
        "    </tr>\n",
        "    <tr>\n",
        "      <th>sub004</th>\n",
        "      <td> 5.75</td>\n",
        "      <td> 42.50</td>\n",
        "      <td> 12</td>\n",
        "      <td> 270</td>\n",
        "    </tr>\n",
        "    <tr>\n",
        "      <th>sub005</th>\n",
        "      <td> 5.72</td>\n",
        "      <td> 44.00</td>\n",
        "      <td> 11</td>\n",
        "      <td> 271</td>\n",
        "    </tr>\n",
        "  </tbody>\n",
        "</table>\n",
        "</div>"
       ],
       "metadata": {},
       "output_type": "pyout",
       "prompt_number": 12,
       "text": [
        "        NumPumps  AmtWon  NumExpl  NumTRs\n",
        "sub001      5.33   46.00        8     239\n",
        "sub002      6.17   39.75       15     281\n",
        "sub003      5.36   42.00       10     232\n",
        "sub004      5.75   42.50       12     270\n",
        "sub005      5.72   44.00       11     271"
       ]
      }
     ],
     "prompt_number": 12
    },
    {
     "cell_type": "markdown",
     "metadata": {},
     "source": [
      "### Sending all the elements out to a csv "
     ]
    },
    {
     "cell_type": "code",
     "collapsed": false,
     "input": [
      "#for i in range(len(all_behav)):\n",
      "#    all_behav[i].to_csv(project_location +\"/processed_data/\"+ task_list[i]+\"_data_frame\")"
     ],
     "language": "python",
     "metadata": {},
     "outputs": [],
     "prompt_number": 13
    }
   ],
   "metadata": {}
  }
 ]
}