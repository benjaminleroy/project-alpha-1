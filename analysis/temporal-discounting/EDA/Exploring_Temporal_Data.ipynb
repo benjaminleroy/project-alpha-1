{
 "metadata": {
  "name": "",
  "signature": "sha256:7c9391e6e13db140ecb46722e46610823301bf998ebb7425e1d173fe9f752c52"
 },
 "nbformat": 3,
 "nbformat_minor": 0,
 "worksheets": [
  {
   "cells": [
    {
     "cell_type": "markdown",
     "metadata": {},
     "source": [
      "# Temporal Task"
     ]
    },
    {
     "cell_type": "code",
     "collapsed": false,
     "input": [
      "# Dictionary in progress\n",
      "print(\"\"\"behav variables:\n",
      "\tinput_k: The parameter for discounting per individual\n",
      "\tlogit_k: \n",
      "\trt_hard_plus: real time working with hard plus ?\n",
      "\trt_hard_minus: real time working with hard minus ?\n",
      "\trt_easy_plus:  real time working with easy plus ?\n",
      "\trt_easy_minus: real time working with easy minus ?\n",
      "\tabs(input-log):\n",
      "\t%del_resp:\n",
      "\t%consis_hard+ : actual response proportions hard+ (that they got \"correct\" compared to their K value)\n",
      "\t%consis_hard- : actual response proportions hard- (that they got \"correct\" compared to their K value)\n",
      "\t%consis_easy+ : actual response proportions easy+ (that they got \"correct\" compared to their K value)\n",
      "\t%consis_easy- : actual response proportions easy- (that they got \"correct\" compared to their K value)\n",
      "\t%consis_logit: # something with consistency\n",
      "\tnumTRs: number of TRs everyone has the same 290 TRs (with 96 trials?) 580 seconds (first 100 are initialization)\n",
      "\trt_hard_all: This doesn't equal rt_hard_plus + rt_hard_minus :( Fuck\n",
      "\trt_easy_all:\n",
      "\t\n",
      "model conditions:\n",
      "\tcond001:\n",
      "\tcond002:\n",
      "\tcond003:\n",
      "\tcond004:\n",
      "\tcond005:\n",
      "\t\"\"\")"
     ],
     "language": "python",
     "metadata": {},
     "outputs": [
      {
       "output_type": "stream",
       "stream": "stdout",
       "text": [
        "behav variables:\n",
        "\tinput_k: The parameter for discounting per individual\n",
        "\tlogit_k: \n",
        "\trt_hard_plus: real time working with hard plus ?\n",
        "\trt_hard_minus: real time working with hard minus ?\n",
        "\trt_easy_plus:  real time working with easy plus ?\n",
        "\trt_easy_minus: real time working with easy minus ?\n",
        "\tabs(input-log):\n",
        "\t%del_resp:\n",
        "\t%consis_hard+ : actual response proportions hard+ (that they got \"correct\" compared to their K value)\n",
        "\t%consis_hard- : actual response proportions hard- (that they got \"correct\" compared to their K value)\n",
        "\t%consis_easy+ : actual response proportions easy+ (that they got \"correct\" compared to their K value)\n",
        "\t%consis_easy- : actual response proportions easy- (that they got \"correct\" compared to their K value)\n",
        "\t%consis_logit: # something with consistency\n",
        "\tnumTRs: number of TRs everyone has the same 290 TRs (with 96 trials?) 580 seconds (first 100 are initialization)\n",
        "\trt_hard_all: This doesn't equal rt_hard_plus + rt_hard_minus :( Fuck\n",
        "\trt_easy_all:\n",
        "\t\n",
        "model conditions:\n",
        "\tcond001:\n",
        "\tcond002:\n",
        "\tcond003:\n",
        "\tcond004:\n",
        "\tcond005:\n",
        "\t\n"
       ]
      }
     ],
     "prompt_number": 1
    },
    {
     "cell_type": "code",
     "collapsed": false,
     "input": [
      "from __future__ import absolute_import, division, print_function\n",
      "import numpy as np\n",
      "import matplotlib.pyplot as plt\n",
      "import nibabel as nib\n",
      "import pandas as pd # to deal with behavior data\n",
      "import os \n",
      "%matplotlib inline"
     ],
     "language": "python",
     "metadata": {},
     "outputs": [],
     "prompt_number": 21
    },
    {
     "cell_type": "code",
     "collapsed": false,
     "input": [
      "cd /Users/BenjaminLeRoy/Desktop/1.Fall2015/Stat\\ 159/project/data/ds009/sub001/behav/task004_run001"
     ],
     "language": "python",
     "metadata": {},
     "outputs": [
      {
       "output_type": "stream",
       "stream": "stdout",
       "text": [
        "/Users/BenjaminLeRoy/Desktop/1.Fall2015/Stat 159/project/data/ds009/sub001/behav/task004_run001\n"
       ]
      }
     ],
     "prompt_number": 5
    },
    {
     "cell_type": "code",
     "collapsed": false,
     "input": [
      "behav=pd.read_table(\"behavdata.txt\",sep=\" \")"
     ],
     "language": "python",
     "metadata": {},
     "outputs": [],
     "prompt_number": 6
    },
    {
     "cell_type": "code",
     "collapsed": false,
     "input": [
      "behav"
     ],
     "language": "python",
     "metadata": {},
     "outputs": [
      {
       "html": [
        "<div style=\"max-height:1000px;max-width:1500px;overflow:auto;\">\n",
        "<table border=\"1\" class=\"dataframe\">\n",
        "  <thead>\n",
        "    <tr style=\"text-align: right;\">\n",
        "      <th></th>\n",
        "      <th>input_k</th>\n",
        "      <th>logit_k</th>\n",
        "      <th>rt_hard_plus</th>\n",
        "      <th>rt_hard_minus</th>\n",
        "      <th>rt_easy_plus</th>\n",
        "      <th>rt_easy_minus</th>\n",
        "      <th>abs(input-log)</th>\n",
        "      <th>%del_resp</th>\n",
        "      <th>%consis_hard+</th>\n",
        "      <th>%consis_hard-</th>\n",
        "      <th>%consis_easy+</th>\n",
        "      <th>%consis_easy-</th>\n",
        "      <th>%consis_logit</th>\n",
        "      <th>numTRs</th>\n",
        "      <th>rt_hard_all</th>\n",
        "      <th>rt_easy_all</th>\n",
        "    </tr>\n",
        "  </thead>\n",
        "  <tbody>\n",
        "    <tr>\n",
        "      <th>0</th>\n",
        "      <td> 0.0014</td>\n",
        "      <td> 0.0042</td>\n",
        "      <td> 1155.0423</td>\n",
        "      <td> 1178.5734</td>\n",
        "      <td> 1118.4104</td>\n",
        "      <td> 975.1455</td>\n",
        "      <td> 0.0028</td>\n",
        "      <td> 0.2083</td>\n",
        "      <td> 0.25</td>\n",
        "      <td> 0.875</td>\n",
        "      <td> 0.4583</td>\n",
        "      <td> 1</td>\n",
        "      <td> 0.7917</td>\n",
        "      <td> 290</td>\n",
        "      <td> 1166.80785</td>\n",
        "      <td> 1046.77795</td>\n",
        "    </tr>\n",
        "  </tbody>\n",
        "</table>\n",
        "</div>"
       ],
       "metadata": {},
       "output_type": "pyout",
       "prompt_number": 7,
       "text": [
        "   input_k  logit_k  rt_hard_plus  rt_hard_minus  rt_easy_plus  rt_easy_minus  \\\n",
        "0   0.0014   0.0042     1155.0423      1178.5734     1118.4104       975.1455   \n",
        "\n",
        "   abs(input-log)  %del_resp  %consis_hard+  %consis_hard-  %consis_easy+  \\\n",
        "0          0.0028     0.2083           0.25          0.875         0.4583   \n",
        "\n",
        "   %consis_easy-  %consis_logit  numTRs  rt_hard_all  rt_easy_all  \n",
        "0              1         0.7917     290   1166.80785   1046.77795  "
       ]
      }
     ],
     "prompt_number": 7
    },
    {
     "cell_type": "code",
     "collapsed": false,
     "input": [
      "cd /Users/BenjaminLeRoy/Desktop/1.Fall2015/Stat\\ 159/project/processed_data"
     ],
     "language": "python",
     "metadata": {},
     "outputs": [
      {
       "output_type": "stream",
       "stream": "stdout",
       "text": [
        "/Users/BenjaminLeRoy/Desktop/1.Fall2015/Stat 159/project/processed_data\n"
       ]
      }
     ],
     "prompt_number": 12
    },
    {
     "cell_type": "code",
     "collapsed": false,
     "input": [
      "behav_data_4_1=pd.read_csv(\"task004_run001_data_frame\",sep=\",\")"
     ],
     "language": "python",
     "metadata": {},
     "outputs": [],
     "prompt_number": 17
    },
    {
     "cell_type": "code",
     "collapsed": false,
     "input": [
      "behav_data_4_1.head(3)"
     ],
     "language": "python",
     "metadata": {},
     "outputs": [
      {
       "html": [
        "<div style=\"max-height:1000px;max-width:1500px;overflow:auto;\">\n",
        "<table border=\"1\" class=\"dataframe\">\n",
        "  <thead>\n",
        "    <tr style=\"text-align: right;\">\n",
        "      <th></th>\n",
        "      <th>Unnamed: 0</th>\n",
        "      <th>input_k</th>\n",
        "      <th>logit_k</th>\n",
        "      <th>rt_hard_plus</th>\n",
        "      <th>rt_hard_minus</th>\n",
        "      <th>rt_easy_plus</th>\n",
        "      <th>rt_easy_minus</th>\n",
        "      <th>abs(input-log)</th>\n",
        "      <th>%del_resp</th>\n",
        "      <th>%consis_hard+</th>\n",
        "      <th>%consis_hard-</th>\n",
        "      <th>%consis_easy+</th>\n",
        "      <th>%consis_easy-</th>\n",
        "      <th>%consis_logit</th>\n",
        "      <th>numTRs</th>\n",
        "      <th>rt_hard_all</th>\n",
        "      <th>rt_easy_all</th>\n",
        "    </tr>\n",
        "  </thead>\n",
        "  <tbody>\n",
        "    <tr>\n",
        "      <th>0</th>\n",
        "      <td> sub001</td>\n",
        "      <td> 0.0014</td>\n",
        "      <td> 0.0042</td>\n",
        "      <td> 1155.0423</td>\n",
        "      <td> 1178.5734</td>\n",
        "      <td> 1118.4104</td>\n",
        "      <td>  975.1455</td>\n",
        "      <td> 0.0028</td>\n",
        "      <td> 0.2083</td>\n",
        "      <td> 0.2500</td>\n",
        "      <td> 0.8750</td>\n",
        "      <td> 0.4583</td>\n",
        "      <td> 1</td>\n",
        "      <td> 0.7917</td>\n",
        "      <td> 290</td>\n",
        "      <td> 1166.80785</td>\n",
        "      <td> 1046.77795</td>\n",
        "    </tr>\n",
        "    <tr>\n",
        "      <th>1</th>\n",
        "      <td> sub002</td>\n",
        "      <td> 0.0003</td>\n",
        "      <td> 0.0014</td>\n",
        "      <td>  850.4374</td>\n",
        "      <td> 1027.0071</td>\n",
        "      <td> 1113.4489</td>\n",
        "      <td>  879.0477</td>\n",
        "      <td> 0.0011</td>\n",
        "      <td> 0.0417</td>\n",
        "      <td> 0.0417</td>\n",
        "      <td> 1.0000</td>\n",
        "      <td> 0.1250</td>\n",
        "      <td> 1</td>\n",
        "      <td> 0.9479</td>\n",
        "      <td> 290</td>\n",
        "      <td>  938.72225</td>\n",
        "      <td>  996.24830</td>\n",
        "    </tr>\n",
        "    <tr>\n",
        "      <th>2</th>\n",
        "      <td> sub003</td>\n",
        "      <td> 0.0591</td>\n",
        "      <td> 0.0646</td>\n",
        "      <td> 1631.1324</td>\n",
        "      <td> 1580.7464</td>\n",
        "      <td> 1406.1942</td>\n",
        "      <td> 1159.7158</td>\n",
        "      <td> 0.0055</td>\n",
        "      <td> 0.5000</td>\n",
        "      <td> 0.5000</td>\n",
        "      <td> 0.4167</td>\n",
        "      <td> 0.9167</td>\n",
        "      <td> 1</td>\n",
        "      <td> 0.7083</td>\n",
        "      <td> 290</td>\n",
        "      <td> 1605.93940</td>\n",
        "      <td> 1282.95500</td>\n",
        "    </tr>\n",
        "  </tbody>\n",
        "</table>\n",
        "</div>"
       ],
       "metadata": {},
       "output_type": "pyout",
       "prompt_number": 18,
       "text": [
        "  Unnamed: 0  input_k  logit_k  rt_hard_plus  rt_hard_minus  rt_easy_plus  \\\n",
        "0     sub001   0.0014   0.0042     1155.0423      1178.5734     1118.4104   \n",
        "1     sub002   0.0003   0.0014      850.4374      1027.0071     1113.4489   \n",
        "2     sub003   0.0591   0.0646     1631.1324      1580.7464     1406.1942   \n",
        "\n",
        "   rt_easy_minus  abs(input-log)  %del_resp  %consis_hard+  %consis_hard-  \\\n",
        "0       975.1455          0.0028     0.2083         0.2500         0.8750   \n",
        "1       879.0477          0.0011     0.0417         0.0417         1.0000   \n",
        "2      1159.7158          0.0055     0.5000         0.5000         0.4167   \n",
        "\n",
        "   %consis_easy+  %consis_easy-  %consis_logit  numTRs  rt_hard_all  \\\n",
        "0         0.4583              1         0.7917     290   1166.80785   \n",
        "1         0.1250              1         0.9479     290    938.72225   \n",
        "2         0.9167              1         0.7083     290   1605.93940   \n",
        "\n",
        "   rt_easy_all  \n",
        "0   1046.77795  \n",
        "1    996.24830  \n",
        "2   1282.95500  "
       ]
      }
     ],
     "prompt_number": 18
    },
    {
     "cell_type": "code",
     "collapsed": false,
     "input": [
      "Using np.random.normal to create jitter to see elements"
     ],
     "language": "python",
     "metadata": {},
     "outputs": []
    },
    {
     "cell_type": "markdown",
     "metadata": {},
     "source": [
      "1) This data also doesn't look to good (we'd like it to be more clustered around (1,1) )"
     ]
    },
    {
     "cell_type": "code",
     "collapsed": false,
     "input": [
      "x=behav_data_4_1[\"%consis_easy+\"]+np.random.normal(scale=0.005,size=len(behav_data_4_1[\"%consis_easy+\"]))\n",
      "y=behav_data_4_1[\"%consis_easy-\"]+np.random.normal(scale=0.005,size=len(behav_data_4_1[\"%consis_easy-\"]))\n",
      "plt.scatter(x,y)"
     ],
     "language": "python",
     "metadata": {},
     "outputs": [
      {
       "metadata": {},
       "output_type": "pyout",
       "prompt_number": 22,
       "text": [
        "<matplotlib.collections.PathCollection at 0x10ce951d0>"
       ]
      },
      {
       "metadata": {},
       "output_type": "display_data",
       "png": "[encoded data removed]",
       "text": [
        "<matplotlib.figure.Figure at 0x10ce6c750>"
       ]
      }
     ],
     "prompt_number": 22
    },
    {
     "cell_type": "markdown",
     "metadata": {},
     "source": [
      "2) Problematic Relationship: looks like k values weren't well detemined"
     ]
    },
    {
     "cell_type": "code",
     "collapsed": false,
     "input": [
      "x=behav_data_4_1[\"%consis_hard+\"]+np.random.normal(scale=0.005,size=len(behav_data_4_1[\"%consis_hard+\"]))\n",
      "y=behav_data_4_1[\"%consis_hard-\"]+np.random.normal(scale=0.005,size=len(behav_data_4_1[\"%consis_hard-\"]))\n",
      "plt.scatter(x,y)"
     ],
     "language": "python",
     "metadata": {},
     "outputs": [
      {
       "metadata": {},
       "output_type": "pyout",
       "prompt_number": 23,
       "text": [
        "<matplotlib.collections.PathCollection at 0x10cec6b50>"
       ]
      },
      {
       "metadata": {},
       "output_type": "display_data",
       "png": "[encoded data removed]",
       "text": [
        "<matplotlib.figure.Figure at 0x10ce98850>"
       ]
      }
     ],
     "prompt_number": 23
    }
   ],
   "metadata": {}
  }
 ]
}